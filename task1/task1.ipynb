{
  "cells": [
    {
      "cell_type": "markdown",
      "metadata": {
        "id": "qjKg47GBdXY9"
      },
      "source": [
        "# **Brain and Cognitive Society, IIT Kanpur**\n",
        "## **Introduction to Deep Learning Workshop**\n",
        "**This python notebook is an assingment on ML/DL**\n",
        "\n",
        "In this assingment you will solve a **regression** problem of predicting House prices using basic python libraries, and build a **neural network** for handwritten digit identification using **TensorFlow**"
      ]
    },
    {
      "cell_type": "markdown",
      "source": [
        "## **Linear Regression**\n",
        "We will use Linear regression for predicting house prices\n",
        "\n",
        "We are using a Kaggle dataset- https://www.kaggle.com/harlfoxem/housesalesprediction"
      ],
      "metadata": {
        "id": "FSRalact4xj4"
      }
    },
    {
      "cell_type": "code",
      "source": [
        "# Lets import required Libraries\n",
        "import pandas as pd\n",
        "import numpy as np\n",
        "import matplotlib.pyplot as plt\n",
        "from sklearn.model_selection import train_test_split\n"
      ],
      "metadata": {
        "id": "J8MRCcJY2btt"
      },
      "execution_count": 1,
      "outputs": []
    },
    {
      "cell_type": "markdown",
      "source": [
        "### **Dataset Preparation**"
      ],
      "metadata": {
        "id": "1MzAhMmE6UHE"
      }
    },
    {
      "cell_type": "code",
      "source": [
        "# Execute this cell for loading dataset in a pandas dataframe\n",
        "\n",
        "from IPython.display import clear_output\n",
        "!wget --no-check-certificate 'https://docs.google.com/uc?export=download&id=16x6-8Znn2T50zFwVvKlzsdN7Jd1hpjct' -O Linear_regression_dataset\n",
        "\n",
        "data_df = pd.read_csv(\"Linear_regression_dataset\")"
      ],
      "metadata": {
        "id": "LiWI-2py554R",
        "outputId": "6db0db01-8320-402c-b5a9-540d6b70f47d",
        "colab": {
          "base_uri": "https://localhost:8080/"
        }
      },
      "execution_count": 2,
      "outputs": [
        {
          "output_type": "stream",
          "name": "stdout",
          "text": [
            "--2023-06-05 16:56:51--  https://docs.google.com/uc?export=download&id=16x6-8Znn2T50zFwVvKlzsdN7Jd1hpjct\n",
            "Resolving docs.google.com (docs.google.com)... 172.217.218.101, 172.217.218.113, 172.217.218.102, ...\n",
            "Connecting to docs.google.com (docs.google.com)|172.217.218.101|:443... connected.\n",
            "HTTP request sent, awaiting response... 303 See Other\n",
            "Location: https://doc-14-3o-docs.googleusercontent.com/docs/securesc/ha0ro937gcuc7l7deffksulhg5h7mbp1/epa27dkp1ngm90i9iop57nqldqdh1jr9/1685984175000/17346214133729595847/*/16x6-8Znn2T50zFwVvKlzsdN7Jd1hpjct?e=download&uuid=88bd08ae-937a-4bad-ad0b-ef305e7b99fc [following]\n",
            "Warning: wildcards not supported in HTTP.\n",
            "--2023-06-05 16:56:53--  https://doc-14-3o-docs.googleusercontent.com/docs/securesc/ha0ro937gcuc7l7deffksulhg5h7mbp1/epa27dkp1ngm90i9iop57nqldqdh1jr9/1685984175000/17346214133729595847/*/16x6-8Znn2T50zFwVvKlzsdN7Jd1hpjct?e=download&uuid=88bd08ae-937a-4bad-ad0b-ef305e7b99fc\n",
            "Resolving doc-14-3o-docs.googleusercontent.com (doc-14-3o-docs.googleusercontent.com)... 108.177.96.132, 2a00:1450:4013:c06::84\n",
            "Connecting to doc-14-3o-docs.googleusercontent.com (doc-14-3o-docs.googleusercontent.com)|108.177.96.132|:443... connected.\n",
            "HTTP request sent, awaiting response... 200 OK\n",
            "Length: 2515206 (2.4M) [text/csv]\n",
            "Saving to: ‘Linear_regression_dataset’\n",
            "\n",
            "Linear_regression_d 100%[===================>]   2.40M  --.-KB/s    in 0.01s   \n",
            "\n",
            "2023-06-05 16:56:53 (170 MB/s) - ‘Linear_regression_dataset’ saved [2515206/2515206]\n",
            "\n"
          ]
        }
      ]
    },
    {
      "cell_type": "code",
      "source": [
        "# Lets have a quick Look at dataset\n",
        "\n",
        "print(\"(No of rows, No of Columns) = \",data_df.shape)\n",
        "data_df.head()"
      ],
      "metadata": {
        "id": "TAodxbYX7AKf",
        "outputId": "b66a25ea-c1d6-4c63-b363-3f0252b4bbaa",
        "colab": {
          "base_uri": "https://localhost:8080/",
          "height": 317
        }
      },
      "execution_count": 3,
      "outputs": [
        {
          "output_type": "stream",
          "name": "stdout",
          "text": [
            "(No of rows, No of Columns) =  (21613, 21)\n"
          ]
        },
        {
          "output_type": "execute_result",
          "data": {
            "text/plain": [
              "           id             date     price  bedrooms  bathrooms  sqft_living  \\\n",
              "0  7129300520  20141013T000000  221900.0         3       1.00         1180   \n",
              "1  6414100192  20141209T000000  538000.0         3       2.25         2570   \n",
              "2  5631500400  20150225T000000  180000.0         2       1.00          770   \n",
              "3  2487200875  20141209T000000  604000.0         4       3.00         1960   \n",
              "4  1954400510  20150218T000000  510000.0         3       2.00         1680   \n",
              "\n",
              "   sqft_lot  floors  waterfront  view  ...  grade  sqft_above  sqft_basement  \\\n",
              "0      5650     1.0           0     0  ...      7        1180              0   \n",
              "1      7242     2.0           0     0  ...      7        2170            400   \n",
              "2     10000     1.0           0     0  ...      6         770              0   \n",
              "3      5000     1.0           0     0  ...      7        1050            910   \n",
              "4      8080     1.0           0     0  ...      8        1680              0   \n",
              "\n",
              "   yr_built  yr_renovated  zipcode      lat     long  sqft_living15  \\\n",
              "0      1955             0    98178  47.5112 -122.257           1340   \n",
              "1      1951          1991    98125  47.7210 -122.319           1690   \n",
              "2      1933             0    98028  47.7379 -122.233           2720   \n",
              "3      1965             0    98136  47.5208 -122.393           1360   \n",
              "4      1987             0    98074  47.6168 -122.045           1800   \n",
              "\n",
              "   sqft_lot15  \n",
              "0        5650  \n",
              "1        7639  \n",
              "2        8062  \n",
              "3        5000  \n",
              "4        7503  \n",
              "\n",
              "[5 rows x 21 columns]"
            ],
            "text/html": [
              "\n",
              "  <div id=\"df-28a6a869-6075-4764-8e4d-b25cf4c7adb4\">\n",
              "    <div class=\"colab-df-container\">\n",
              "      <div>\n",
              "<style scoped>\n",
              "    .dataframe tbody tr th:only-of-type {\n",
              "        vertical-align: middle;\n",
              "    }\n",
              "\n",
              "    .dataframe tbody tr th {\n",
              "        vertical-align: top;\n",
              "    }\n",
              "\n",
              "    .dataframe thead th {\n",
              "        text-align: right;\n",
              "    }\n",
              "</style>\n",
              "<table border=\"1\" class=\"dataframe\">\n",
              "  <thead>\n",
              "    <tr style=\"text-align: right;\">\n",
              "      <th></th>\n",
              "      <th>id</th>\n",
              "      <th>date</th>\n",
              "      <th>price</th>\n",
              "      <th>bedrooms</th>\n",
              "      <th>bathrooms</th>\n",
              "      <th>sqft_living</th>\n",
              "      <th>sqft_lot</th>\n",
              "      <th>floors</th>\n",
              "      <th>waterfront</th>\n",
              "      <th>view</th>\n",
              "      <th>...</th>\n",
              "      <th>grade</th>\n",
              "      <th>sqft_above</th>\n",
              "      <th>sqft_basement</th>\n",
              "      <th>yr_built</th>\n",
              "      <th>yr_renovated</th>\n",
              "      <th>zipcode</th>\n",
              "      <th>lat</th>\n",
              "      <th>long</th>\n",
              "      <th>sqft_living15</th>\n",
              "      <th>sqft_lot15</th>\n",
              "    </tr>\n",
              "  </thead>\n",
              "  <tbody>\n",
              "    <tr>\n",
              "      <th>0</th>\n",
              "      <td>7129300520</td>\n",
              "      <td>20141013T000000</td>\n",
              "      <td>221900.0</td>\n",
              "      <td>3</td>\n",
              "      <td>1.00</td>\n",
              "      <td>1180</td>\n",
              "      <td>5650</td>\n",
              "      <td>1.0</td>\n",
              "      <td>0</td>\n",
              "      <td>0</td>\n",
              "      <td>...</td>\n",
              "      <td>7</td>\n",
              "      <td>1180</td>\n",
              "      <td>0</td>\n",
              "      <td>1955</td>\n",
              "      <td>0</td>\n",
              "      <td>98178</td>\n",
              "      <td>47.5112</td>\n",
              "      <td>-122.257</td>\n",
              "      <td>1340</td>\n",
              "      <td>5650</td>\n",
              "    </tr>\n",
              "    <tr>\n",
              "      <th>1</th>\n",
              "      <td>6414100192</td>\n",
              "      <td>20141209T000000</td>\n",
              "      <td>538000.0</td>\n",
              "      <td>3</td>\n",
              "      <td>2.25</td>\n",
              "      <td>2570</td>\n",
              "      <td>7242</td>\n",
              "      <td>2.0</td>\n",
              "      <td>0</td>\n",
              "      <td>0</td>\n",
              "      <td>...</td>\n",
              "      <td>7</td>\n",
              "      <td>2170</td>\n",
              "      <td>400</td>\n",
              "      <td>1951</td>\n",
              "      <td>1991</td>\n",
              "      <td>98125</td>\n",
              "      <td>47.7210</td>\n",
              "      <td>-122.319</td>\n",
              "      <td>1690</td>\n",
              "      <td>7639</td>\n",
              "    </tr>\n",
              "    <tr>\n",
              "      <th>2</th>\n",
              "      <td>5631500400</td>\n",
              "      <td>20150225T000000</td>\n",
              "      <td>180000.0</td>\n",
              "      <td>2</td>\n",
              "      <td>1.00</td>\n",
              "      <td>770</td>\n",
              "      <td>10000</td>\n",
              "      <td>1.0</td>\n",
              "      <td>0</td>\n",
              "      <td>0</td>\n",
              "      <td>...</td>\n",
              "      <td>6</td>\n",
              "      <td>770</td>\n",
              "      <td>0</td>\n",
              "      <td>1933</td>\n",
              "      <td>0</td>\n",
              "      <td>98028</td>\n",
              "      <td>47.7379</td>\n",
              "      <td>-122.233</td>\n",
              "      <td>2720</td>\n",
              "      <td>8062</td>\n",
              "    </tr>\n",
              "    <tr>\n",
              "      <th>3</th>\n",
              "      <td>2487200875</td>\n",
              "      <td>20141209T000000</td>\n",
              "      <td>604000.0</td>\n",
              "      <td>4</td>\n",
              "      <td>3.00</td>\n",
              "      <td>1960</td>\n",
              "      <td>5000</td>\n",
              "      <td>1.0</td>\n",
              "      <td>0</td>\n",
              "      <td>0</td>\n",
              "      <td>...</td>\n",
              "      <td>7</td>\n",
              "      <td>1050</td>\n",
              "      <td>910</td>\n",
              "      <td>1965</td>\n",
              "      <td>0</td>\n",
              "      <td>98136</td>\n",
              "      <td>47.5208</td>\n",
              "      <td>-122.393</td>\n",
              "      <td>1360</td>\n",
              "      <td>5000</td>\n",
              "    </tr>\n",
              "    <tr>\n",
              "      <th>4</th>\n",
              "      <td>1954400510</td>\n",
              "      <td>20150218T000000</td>\n",
              "      <td>510000.0</td>\n",
              "      <td>3</td>\n",
              "      <td>2.00</td>\n",
              "      <td>1680</td>\n",
              "      <td>8080</td>\n",
              "      <td>1.0</td>\n",
              "      <td>0</td>\n",
              "      <td>0</td>\n",
              "      <td>...</td>\n",
              "      <td>8</td>\n",
              "      <td>1680</td>\n",
              "      <td>0</td>\n",
              "      <td>1987</td>\n",
              "      <td>0</td>\n",
              "      <td>98074</td>\n",
              "      <td>47.6168</td>\n",
              "      <td>-122.045</td>\n",
              "      <td>1800</td>\n",
              "      <td>7503</td>\n",
              "    </tr>\n",
              "  </tbody>\n",
              "</table>\n",
              "<p>5 rows × 21 columns</p>\n",
              "</div>\n",
              "      <button class=\"colab-df-convert\" onclick=\"convertToInteractive('df-28a6a869-6075-4764-8e4d-b25cf4c7adb4')\"\n",
              "              title=\"Convert this dataframe to an interactive table.\"\n",
              "              style=\"display:none;\">\n",
              "        \n",
              "  <svg xmlns=\"http://www.w3.org/2000/svg\" height=\"24px\"viewBox=\"0 0 24 24\"\n",
              "       width=\"24px\">\n",
              "    <path d=\"M0 0h24v24H0V0z\" fill=\"none\"/>\n",
              "    <path d=\"M18.56 5.44l.94 2.06.94-2.06 2.06-.94-2.06-.94-.94-2.06-.94 2.06-2.06.94zm-11 1L8.5 8.5l.94-2.06 2.06-.94-2.06-.94L8.5 2.5l-.94 2.06-2.06.94zm10 10l.94 2.06.94-2.06 2.06-.94-2.06-.94-.94-2.06-.94 2.06-2.06.94z\"/><path d=\"M17.41 7.96l-1.37-1.37c-.4-.4-.92-.59-1.43-.59-.52 0-1.04.2-1.43.59L10.3 9.45l-7.72 7.72c-.78.78-.78 2.05 0 2.83L4 21.41c.39.39.9.59 1.41.59.51 0 1.02-.2 1.41-.59l7.78-7.78 2.81-2.81c.8-.78.8-2.07 0-2.86zM5.41 20L4 18.59l7.72-7.72 1.47 1.35L5.41 20z\"/>\n",
              "  </svg>\n",
              "      </button>\n",
              "      \n",
              "  <style>\n",
              "    .colab-df-container {\n",
              "      display:flex;\n",
              "      flex-wrap:wrap;\n",
              "      gap: 12px;\n",
              "    }\n",
              "\n",
              "    .colab-df-convert {\n",
              "      background-color: #E8F0FE;\n",
              "      border: none;\n",
              "      border-radius: 50%;\n",
              "      cursor: pointer;\n",
              "      display: none;\n",
              "      fill: #1967D2;\n",
              "      height: 32px;\n",
              "      padding: 0 0 0 0;\n",
              "      width: 32px;\n",
              "    }\n",
              "\n",
              "    .colab-df-convert:hover {\n",
              "      background-color: #E2EBFA;\n",
              "      box-shadow: 0px 1px 2px rgba(60, 64, 67, 0.3), 0px 1px 3px 1px rgba(60, 64, 67, 0.15);\n",
              "      fill: #174EA6;\n",
              "    }\n",
              "\n",
              "    [theme=dark] .colab-df-convert {\n",
              "      background-color: #3B4455;\n",
              "      fill: #D2E3FC;\n",
              "    }\n",
              "\n",
              "    [theme=dark] .colab-df-convert:hover {\n",
              "      background-color: #434B5C;\n",
              "      box-shadow: 0px 1px 3px 1px rgba(0, 0, 0, 0.15);\n",
              "      filter: drop-shadow(0px 1px 2px rgba(0, 0, 0, 0.3));\n",
              "      fill: #FFFFFF;\n",
              "    }\n",
              "  </style>\n",
              "\n",
              "      <script>\n",
              "        const buttonEl =\n",
              "          document.querySelector('#df-28a6a869-6075-4764-8e4d-b25cf4c7adb4 button.colab-df-convert');\n",
              "        buttonEl.style.display =\n",
              "          google.colab.kernel.accessAllowed ? 'block' : 'none';\n",
              "\n",
              "        async function convertToInteractive(key) {\n",
              "          const element = document.querySelector('#df-28a6a869-6075-4764-8e4d-b25cf4c7adb4');\n",
              "          const dataTable =\n",
              "            await google.colab.kernel.invokeFunction('convertToInteractive',\n",
              "                                                     [key], {});\n",
              "          if (!dataTable) return;\n",
              "\n",
              "          const docLinkHtml = 'Like what you see? Visit the ' +\n",
              "            '<a target=\"_blank\" href=https://colab.research.google.com/notebooks/data_table.ipynb>data table notebook</a>'\n",
              "            + ' to learn more about interactive tables.';\n",
              "          element.innerHTML = '';\n",
              "          dataTable['output_type'] = 'display_data';\n",
              "          await google.colab.output.renderOutput(dataTable, element);\n",
              "          const docLink = document.createElement('div');\n",
              "          docLink.innerHTML = docLinkHtml;\n",
              "          element.appendChild(docLink);\n",
              "        }\n",
              "      </script>\n",
              "    </div>\n",
              "  </div>\n",
              "  "
            ]
          },
          "metadata": {},
          "execution_count": 3
        }
      ]
    },
    {
      "cell_type": "markdown",
      "source": [
        "So there are **19** features (of course we will not use id as feature :) ), and 1 variable to predict(price)\n",
        "\n",
        "But note that the **date** column contain strings so first we will remove T00.. part from it and than convert it to numpy array."
      ],
      "metadata": {
        "id": "gsJaooGZ7pUV"
      }
    },
    {
      "cell_type": "code",
      "source": [
        "data_df['date'] = data_df['date'].str.replace('T000000','')                 # Remove T000000 part from data column. Hint: search about .str.replace() method. :) \n",
        "data_df['date'] = data_df['date'].astype(int)                  \n",
        "data_df2 = data_df.drop(['id'],axis = 1)\n",
        "data_array = np.array(data_df2)                                              # Create a numpy array which does not have \"id\" field\n",
        "assert (data_array.shape == (21613,20))\n",
        "data_df.head()"
      ],
      "metadata": {
        "id": "FNFNf3jT7oxW",
        "colab": {
          "base_uri": "https://localhost:8080/",
          "height": 300
        },
        "outputId": "e1fa947d-49ec-41af-d49b-966ddc4b3f48"
      },
      "execution_count": 4,
      "outputs": [
        {
          "output_type": "execute_result",
          "data": {
            "text/plain": [
              "           id      date     price  bedrooms  bathrooms  sqft_living  sqft_lot  \\\n",
              "0  7129300520  20141013  221900.0         3       1.00         1180      5650   \n",
              "1  6414100192  20141209  538000.0         3       2.25         2570      7242   \n",
              "2  5631500400  20150225  180000.0         2       1.00          770     10000   \n",
              "3  2487200875  20141209  604000.0         4       3.00         1960      5000   \n",
              "4  1954400510  20150218  510000.0         3       2.00         1680      8080   \n",
              "\n",
              "   floors  waterfront  view  ...  grade  sqft_above  sqft_basement  yr_built  \\\n",
              "0     1.0           0     0  ...      7        1180              0      1955   \n",
              "1     2.0           0     0  ...      7        2170            400      1951   \n",
              "2     1.0           0     0  ...      6         770              0      1933   \n",
              "3     1.0           0     0  ...      7        1050            910      1965   \n",
              "4     1.0           0     0  ...      8        1680              0      1987   \n",
              "\n",
              "   yr_renovated  zipcode      lat     long  sqft_living15  sqft_lot15  \n",
              "0             0    98178  47.5112 -122.257           1340        5650  \n",
              "1          1991    98125  47.7210 -122.319           1690        7639  \n",
              "2             0    98028  47.7379 -122.233           2720        8062  \n",
              "3             0    98136  47.5208 -122.393           1360        5000  \n",
              "4             0    98074  47.6168 -122.045           1800        7503  \n",
              "\n",
              "[5 rows x 21 columns]"
            ],
            "text/html": [
              "\n",
              "  <div id=\"df-1184fe7f-66b4-482a-ae21-ccb9793d634b\">\n",
              "    <div class=\"colab-df-container\">\n",
              "      <div>\n",
              "<style scoped>\n",
              "    .dataframe tbody tr th:only-of-type {\n",
              "        vertical-align: middle;\n",
              "    }\n",
              "\n",
              "    .dataframe tbody tr th {\n",
              "        vertical-align: top;\n",
              "    }\n",
              "\n",
              "    .dataframe thead th {\n",
              "        text-align: right;\n",
              "    }\n",
              "</style>\n",
              "<table border=\"1\" class=\"dataframe\">\n",
              "  <thead>\n",
              "    <tr style=\"text-align: right;\">\n",
              "      <th></th>\n",
              "      <th>id</th>\n",
              "      <th>date</th>\n",
              "      <th>price</th>\n",
              "      <th>bedrooms</th>\n",
              "      <th>bathrooms</th>\n",
              "      <th>sqft_living</th>\n",
              "      <th>sqft_lot</th>\n",
              "      <th>floors</th>\n",
              "      <th>waterfront</th>\n",
              "      <th>view</th>\n",
              "      <th>...</th>\n",
              "      <th>grade</th>\n",
              "      <th>sqft_above</th>\n",
              "      <th>sqft_basement</th>\n",
              "      <th>yr_built</th>\n",
              "      <th>yr_renovated</th>\n",
              "      <th>zipcode</th>\n",
              "      <th>lat</th>\n",
              "      <th>long</th>\n",
              "      <th>sqft_living15</th>\n",
              "      <th>sqft_lot15</th>\n",
              "    </tr>\n",
              "  </thead>\n",
              "  <tbody>\n",
              "    <tr>\n",
              "      <th>0</th>\n",
              "      <td>7129300520</td>\n",
              "      <td>20141013</td>\n",
              "      <td>221900.0</td>\n",
              "      <td>3</td>\n",
              "      <td>1.00</td>\n",
              "      <td>1180</td>\n",
              "      <td>5650</td>\n",
              "      <td>1.0</td>\n",
              "      <td>0</td>\n",
              "      <td>0</td>\n",
              "      <td>...</td>\n",
              "      <td>7</td>\n",
              "      <td>1180</td>\n",
              "      <td>0</td>\n",
              "      <td>1955</td>\n",
              "      <td>0</td>\n",
              "      <td>98178</td>\n",
              "      <td>47.5112</td>\n",
              "      <td>-122.257</td>\n",
              "      <td>1340</td>\n",
              "      <td>5650</td>\n",
              "    </tr>\n",
              "    <tr>\n",
              "      <th>1</th>\n",
              "      <td>6414100192</td>\n",
              "      <td>20141209</td>\n",
              "      <td>538000.0</td>\n",
              "      <td>3</td>\n",
              "      <td>2.25</td>\n",
              "      <td>2570</td>\n",
              "      <td>7242</td>\n",
              "      <td>2.0</td>\n",
              "      <td>0</td>\n",
              "      <td>0</td>\n",
              "      <td>...</td>\n",
              "      <td>7</td>\n",
              "      <td>2170</td>\n",
              "      <td>400</td>\n",
              "      <td>1951</td>\n",
              "      <td>1991</td>\n",
              "      <td>98125</td>\n",
              "      <td>47.7210</td>\n",
              "      <td>-122.319</td>\n",
              "      <td>1690</td>\n",
              "      <td>7639</td>\n",
              "    </tr>\n",
              "    <tr>\n",
              "      <th>2</th>\n",
              "      <td>5631500400</td>\n",
              "      <td>20150225</td>\n",
              "      <td>180000.0</td>\n",
              "      <td>2</td>\n",
              "      <td>1.00</td>\n",
              "      <td>770</td>\n",
              "      <td>10000</td>\n",
              "      <td>1.0</td>\n",
              "      <td>0</td>\n",
              "      <td>0</td>\n",
              "      <td>...</td>\n",
              "      <td>6</td>\n",
              "      <td>770</td>\n",
              "      <td>0</td>\n",
              "      <td>1933</td>\n",
              "      <td>0</td>\n",
              "      <td>98028</td>\n",
              "      <td>47.7379</td>\n",
              "      <td>-122.233</td>\n",
              "      <td>2720</td>\n",
              "      <td>8062</td>\n",
              "    </tr>\n",
              "    <tr>\n",
              "      <th>3</th>\n",
              "      <td>2487200875</td>\n",
              "      <td>20141209</td>\n",
              "      <td>604000.0</td>\n",
              "      <td>4</td>\n",
              "      <td>3.00</td>\n",
              "      <td>1960</td>\n",
              "      <td>5000</td>\n",
              "      <td>1.0</td>\n",
              "      <td>0</td>\n",
              "      <td>0</td>\n",
              "      <td>...</td>\n",
              "      <td>7</td>\n",
              "      <td>1050</td>\n",
              "      <td>910</td>\n",
              "      <td>1965</td>\n",
              "      <td>0</td>\n",
              "      <td>98136</td>\n",
              "      <td>47.5208</td>\n",
              "      <td>-122.393</td>\n",
              "      <td>1360</td>\n",
              "      <td>5000</td>\n",
              "    </tr>\n",
              "    <tr>\n",
              "      <th>4</th>\n",
              "      <td>1954400510</td>\n",
              "      <td>20150218</td>\n",
              "      <td>510000.0</td>\n",
              "      <td>3</td>\n",
              "      <td>2.00</td>\n",
              "      <td>1680</td>\n",
              "      <td>8080</td>\n",
              "      <td>1.0</td>\n",
              "      <td>0</td>\n",
              "      <td>0</td>\n",
              "      <td>...</td>\n",
              "      <td>8</td>\n",
              "      <td>1680</td>\n",
              "      <td>0</td>\n",
              "      <td>1987</td>\n",
              "      <td>0</td>\n",
              "      <td>98074</td>\n",
              "      <td>47.6168</td>\n",
              "      <td>-122.045</td>\n",
              "      <td>1800</td>\n",
              "      <td>7503</td>\n",
              "    </tr>\n",
              "  </tbody>\n",
              "</table>\n",
              "<p>5 rows × 21 columns</p>\n",
              "</div>\n",
              "      <button class=\"colab-df-convert\" onclick=\"convertToInteractive('df-1184fe7f-66b4-482a-ae21-ccb9793d634b')\"\n",
              "              title=\"Convert this dataframe to an interactive table.\"\n",
              "              style=\"display:none;\">\n",
              "        \n",
              "  <svg xmlns=\"http://www.w3.org/2000/svg\" height=\"24px\"viewBox=\"0 0 24 24\"\n",
              "       width=\"24px\">\n",
              "    <path d=\"M0 0h24v24H0V0z\" fill=\"none\"/>\n",
              "    <path d=\"M18.56 5.44l.94 2.06.94-2.06 2.06-.94-2.06-.94-.94-2.06-.94 2.06-2.06.94zm-11 1L8.5 8.5l.94-2.06 2.06-.94-2.06-.94L8.5 2.5l-.94 2.06-2.06.94zm10 10l.94 2.06.94-2.06 2.06-.94-2.06-.94-.94-2.06-.94 2.06-2.06.94z\"/><path d=\"M17.41 7.96l-1.37-1.37c-.4-.4-.92-.59-1.43-.59-.52 0-1.04.2-1.43.59L10.3 9.45l-7.72 7.72c-.78.78-.78 2.05 0 2.83L4 21.41c.39.39.9.59 1.41.59.51 0 1.02-.2 1.41-.59l7.78-7.78 2.81-2.81c.8-.78.8-2.07 0-2.86zM5.41 20L4 18.59l7.72-7.72 1.47 1.35L5.41 20z\"/>\n",
              "  </svg>\n",
              "      </button>\n",
              "      \n",
              "  <style>\n",
              "    .colab-df-container {\n",
              "      display:flex;\n",
              "      flex-wrap:wrap;\n",
              "      gap: 12px;\n",
              "    }\n",
              "\n",
              "    .colab-df-convert {\n",
              "      background-color: #E8F0FE;\n",
              "      border: none;\n",
              "      border-radius: 50%;\n",
              "      cursor: pointer;\n",
              "      display: none;\n",
              "      fill: #1967D2;\n",
              "      height: 32px;\n",
              "      padding: 0 0 0 0;\n",
              "      width: 32px;\n",
              "    }\n",
              "\n",
              "    .colab-df-convert:hover {\n",
              "      background-color: #E2EBFA;\n",
              "      box-shadow: 0px 1px 2px rgba(60, 64, 67, 0.3), 0px 1px 3px 1px rgba(60, 64, 67, 0.15);\n",
              "      fill: #174EA6;\n",
              "    }\n",
              "\n",
              "    [theme=dark] .colab-df-convert {\n",
              "      background-color: #3B4455;\n",
              "      fill: #D2E3FC;\n",
              "    }\n",
              "\n",
              "    [theme=dark] .colab-df-convert:hover {\n",
              "      background-color: #434B5C;\n",
              "      box-shadow: 0px 1px 3px 1px rgba(0, 0, 0, 0.15);\n",
              "      filter: drop-shadow(0px 1px 2px rgba(0, 0, 0, 0.3));\n",
              "      fill: #FFFFFF;\n",
              "    }\n",
              "  </style>\n",
              "\n",
              "      <script>\n",
              "        const buttonEl =\n",
              "          document.querySelector('#df-1184fe7f-66b4-482a-ae21-ccb9793d634b button.colab-df-convert');\n",
              "        buttonEl.style.display =\n",
              "          google.colab.kernel.accessAllowed ? 'block' : 'none';\n",
              "\n",
              "        async function convertToInteractive(key) {\n",
              "          const element = document.querySelector('#df-1184fe7f-66b4-482a-ae21-ccb9793d634b');\n",
              "          const dataTable =\n",
              "            await google.colab.kernel.invokeFunction('convertToInteractive',\n",
              "                                                     [key], {});\n",
              "          if (!dataTable) return;\n",
              "\n",
              "          const docLinkHtml = 'Like what you see? Visit the ' +\n",
              "            '<a target=\"_blank\" href=https://colab.research.google.com/notebooks/data_table.ipynb>data table notebook</a>'\n",
              "            + ' to learn more about interactive tables.';\n",
              "          element.innerHTML = '';\n",
              "          dataTable['output_type'] = 'display_data';\n",
              "          await google.colab.output.renderOutput(dataTable, element);\n",
              "          const docLink = document.createElement('div');\n",
              "          docLink.innerHTML = docLinkHtml;\n",
              "          element.appendChild(docLink);\n",
              "        }\n",
              "      </script>\n",
              "    </div>\n",
              "  </div>\n",
              "  "
            ]
          },
          "metadata": {},
          "execution_count": 4
        }
      ]
    },
    {
      "cell_type": "markdown",
      "source": [
        "Now the next task is **normalization**.\n",
        "\n",
        "We will scale each column of dataset by x -> (x-u)/s\n",
        "\n",
        "where u is mean(x), and s is standard deviation of u"
      ],
      "metadata": {
        "id": "xsBZxZ4x-oBR"
      }
    },
    {
      "cell_type": "code",
      "source": [
        "mean = np.array(data_array.mean(axis=0))                                # this should be an array, each entry should be mean of a column\n",
        "sd = np.array(data_array.std(axis=0))                                    # this should be an array, each entry should be standard deviation of a column\n",
        "\n",
        "data_array_norm = (data_array - mean)/sd\n",
        "\n",
        "print(data_array_norm.shape)"
      ],
      "metadata": {
        "id": "u7GZV-0T_zCy",
        "colab": {
          "base_uri": "https://localhost:8080/"
        },
        "outputId": "528b8079-1f9c-429a-a193-278b0c1b0b1a"
      },
      "execution_count": 5,
      "outputs": [
        {
          "output_type": "stream",
          "name": "stdout",
          "text": [
            "(21613, 20)\n"
          ]
        }
      ]
    },
    {
      "cell_type": "markdown",
      "source": [
        "The last step is to make train and test dataset and to create seperate vector for price"
      ],
      "metadata": {
        "id": "VCQTrNIgAlPv"
      }
    },
    {
      "cell_type": "code",
      "source": [
        "labels = data_df['price']                                                                                                            # extract the price column from data\n",
        "\n",
        "x_array_norm = np.delete(data_array_norm,1,1)                                                                                                    # delete the price column from data_array_norm. Hint: use np.delete()\n",
        "\n",
        "x_train, x_test, y_train, y_test = train_test_split(x_array_norm,labels,test_size=0.15,random_state=42,shuffle=True)    # splitting data into test and train set.\n",
        "\n",
        "print(x_train.shape,x_test.shape,y_train.shape,y_test.shape)"
      ],
      "metadata": {
        "id": "dJyX5QOFBRg5",
        "colab": {
          "base_uri": "https://localhost:8080/"
        },
        "outputId": "1a9c149d-3091-4070-a1de-5e78be60c42d"
      },
      "execution_count": 6,
      "outputs": [
        {
          "output_type": "stream",
          "name": "stdout",
          "text": [
            "(18371, 19) (3242, 19) (18371,) (3242,)\n"
          ]
        }
      ]
    },
    {
      "cell_type": "markdown",
      "source": [
        "### **Loss and gradient descent**\n",
        "We will use mean squared error(MSE) as loss\n",
        "\n",
        "Use the gradient descent algorithm which you learned from tutorials\n",
        "\n",
        "Your task is to complete the following functions"
      ],
      "metadata": {
        "id": "iAdW-22ZDcdU"
      }
    },
    {
      "cell_type": "code",
      "source": [
        "def loss(y_pred,y_true):\n",
        "  \"\"\"\n",
        "  input:\n",
        "  y_pred = [array] predicted value of y\n",
        "  y_true = [array] ground truth\n",
        "  \n",
        "  output:\n",
        "  mse: [scalar] the MES loss\n",
        "  \"\"\"\n",
        "  mse = np.mean((y_true - y_pred)**2)                    # fill code here\n",
        "\n",
        "  return mse"
      ],
      "metadata": {
        "id": "ufoIQOpeEFQx"
      },
      "execution_count": 7,
      "outputs": []
    },
    {
      "cell_type": "code",
      "source": [
        "def y(x,a,b):\n",
        "  \"\"\"\n",
        "  This function should return predicted value of y = ax+b\n",
        "  input:\n",
        "  x: [array] the feature vector of shape (m,n)\n",
        "  a: [array] weights of shape (n,)\n",
        "  b: [scalar] bias\n",
        "  \n",
        "  output:\n",
        "  y_pred: [array] predicted value of y of shape (m,)\n",
        "  \"\"\"\n",
        "\n",
        "  m,n = x.shape\n",
        "  y_pred = np.dot(x, a) + b                   # fill code here\n",
        "\n",
        "  assert(y_pred.shape == (m,))\n",
        "  return y_pred"
      ],
      "metadata": {
        "id": "a6LogNz5E28X"
      },
      "execution_count": 8,
      "outputs": []
    },
    {
      "cell_type": "code",
      "source": [
        "def gradient(x,a,b,y_true):\n",
        "  \"\"\"\n",
        "  This function shoud return gradient of loss\n",
        "  input:\n",
        "  x: [array] the feature vector of shape (m,n)\n",
        "  a: [array] weights of shape (n,)\n",
        "  b: [scalar] bias\n",
        "  y_true: [array] ground truth of shape (m,)\n",
        "\n",
        "  output:\n",
        "  grad: [tuple] a tuple (derivative with respect to a[array of shape(n,)], derivative with respect to b[scalar])\n",
        "  \"\"\"\n",
        "  m,n = x.shape\n",
        "  yp = y(x,a,b)\n",
        "\n",
        "  da =  (2/m)* np.sum(np.multiply(x,(yp-y_true)[:,np.newaxis]),axis=0)           # write code to calculate derivative of loss with respect to a\n",
        "  db = (2/m) * np.sum((yp - y_true))              # write code to calculate derivative of loss with respect to b\n",
        "\n",
        "  assert(da.shape ==(n,))\n",
        "  return (da,db)"
      ],
      "metadata": {
        "id": "lYnPROu8Gxwi"
      },
      "execution_count": 9,
      "outputs": []
    },
    {
      "cell_type": "code",
      "source": [
        "def gradient_descent(x,y_true,learning_rate=0.01,epochs = 10):\n",
        "  \"\"\"\n",
        "  This function perfroms gradient descent and minimizes loss\n",
        "  input:\n",
        "  x: [array] the feature vector of shape (m,n)\n",
        "  y_true: [array] ground truth of shape (m,)\n",
        "  \n",
        "  output:\n",
        "  loss: [array] of size (epochs,)\n",
        "  weights: [tuple] (a,b)\n",
        "  \"\"\"\n",
        "  m,n = x.shape\n",
        "  loss_mse = []                                 # initialize empty list to store loss\n",
        "  a = np.zeros((n,))                                 # initialize a- weights and b- bias\n",
        "  b = 0\n",
        "\n",
        "  for i in range(epochs):\n",
        "    # calculate derivative using gradient() function\n",
        "    # apply gradient descent now to update a and b\n",
        "    da, db = gradient(x,a,b,y_true)\n",
        "    yp = y(x,a,b)\n",
        "    # updating \n",
        "    a = a-learning_rate * da\n",
        "    b = b-learning_rate * db\n",
        "    l_mse = loss(yp,y_true)                                # calculate loss at this point\n",
        "    loss_mse.append(l_mse)\n",
        "\n",
        "    print(\"Epoch \",i+1,\" Completed!\",\"loss = \",l_mse)\n",
        "  \n",
        "  print(\"Training completed!!\")\n",
        "\n",
        "  assert(a.shape==(n,))\n",
        "\n",
        "  return (loss_mse,a,b)"
      ],
      "metadata": {
        "id": "km_z3ojKKQdj"
      },
      "execution_count": 10,
      "outputs": []
    },
    {
      "cell_type": "markdown",
      "source": [
        "### **Training** "
      ],
      "metadata": {
        "id": "VsR5XLl_WVu4"
      }
    },
    {
      "cell_type": "code",
      "source": [
        "epochs = 100          # tweak this!!!\n",
        "learn_rate = 0.1     # choose learning rate wisely otherwise loss may diverge!!\n",
        "\n",
        "train_loss,a,b= gradient_descent(x_train,y_train,learn_rate,epochs)"
      ],
      "metadata": {
        "id": "5A9mqkqLWU27",
        "colab": {
          "base_uri": "https://localhost:8080/"
        },
        "outputId": "8984265d-9f7d-409e-9692-a4a8ba0af9cb"
      },
      "execution_count": 13,
      "outputs": [
        {
          "output_type": "stream",
          "name": "stderr",
          "text": [
            "<ipython-input-9-79c5c346dae6>:16: FutureWarning: Support for multi-dimensional indexing (e.g. `obj[:, None]`) is deprecated and will be removed in a future version.  Convert to a numpy array before indexing instead.\n",
            "  da =  (2/m)* np.sum(np.multiply(x,(yp-y_true)[:,np.newaxis]),axis=0)           # write code to calculate derivative of loss with respect to a\n"
          ]
        },
        {
          "output_type": "stream",
          "name": "stdout",
          "text": [
            "Epoch  1  Completed! loss =  421333293468.0863\n",
            "Epoch  2  Completed! loss =  244360506743.70023\n",
            "Epoch  3  Completed! loss =  168789332657.9613\n",
            "Epoch  4  Completed! loss =  122147956608.20099\n",
            "Epoch  5  Completed! loss =  92739827325.73863\n",
            "Epoch  6  Completed! loss =  73986765253.9325\n",
            "Epoch  7  Completed! loss =  61946467389.764\n",
            "Epoch  8  Completed! loss =  54178543225.135796\n",
            "Epoch  9  Completed! loss =  49145545123.8437\n",
            "Epoch  10  Completed! loss =  45869749762.12248\n",
            "Epoch  11  Completed! loss =  43726180190.05453\n",
            "Epoch  12  Completed! loss =  42314117263.21841\n",
            "Epoch  13  Completed! loss =  41376084920.49848\n",
            "Epoch  14  Completed! loss =  40746348417.03962\n",
            "Epoch  15  Completed! loss =  40318031105.11234\n",
            "Epoch  16  Completed! loss =  40022067785.95285\n",
            "Epoch  17  Completed! loss =  39813713826.94785\n",
            "Epoch  18  Completed! loss =  39663888288.22123\n",
            "Epoch  19  Completed! loss =  39553613897.16837\n",
            "Epoch  20  Completed! loss =  39470442792.99601\n",
            "Epoch  21  Completed! loss =  39406156522.50079\n",
            "Epoch  22  Completed! loss =  39355284268.3124\n",
            "Epoch  23  Completed! loss =  39314146860.91745\n",
            "Epoch  24  Completed! loss =  39280238921.3934\n",
            "Epoch  25  Completed! loss =  39251828659.2791\n",
            "Epoch  26  Completed! loss =  39227697933.35532\n",
            "Epoch  27  Completed! loss =  39206972826.40623\n",
            "Epoch  28  Completed! loss =  39189012729.83112\n",
            "Epoch  29  Completed! loss =  39173337330.46005\n",
            "Epoch  30  Completed! loss =  39159578215.40067\n",
            "Epoch  31  Completed! loss =  39147446519.9598\n",
            "Epoch  32  Completed! loss =  39136711074.19309\n",
            "Epoch  33  Completed! loss =  39127183455.65719\n",
            "Epoch  34  Completed! loss =  39118707614.68347\n",
            "Epoch  35  Completed! loss =  39111152551.29103\n",
            "Epoch  36  Completed! loss =  39104407048.57458\n",
            "Epoch  37  Completed! loss =  39098375808.14028\n",
            "Epoch  38  Completed! loss =  39092976554.57105\n",
            "Epoch  39  Completed! loss =  39088137820.22815\n",
            "Epoch  40  Completed! loss =  39083797216.144745\n",
            "Epoch  41  Completed! loss =  39079900056.87486\n",
            "Epoch  42  Completed! loss =  39076398248.24776\n",
            "Epoch  43  Completed! loss =  39073249374.35448\n",
            "Epoch  44  Completed! loss =  39070415938.49732\n",
            "Epoch  45  Completed! loss =  39067864725.33396\n",
            "Epoch  46  Completed! loss =  39065566260.04489\n",
            "Epoch  47  Completed! loss =  39063494346.34705\n",
            "Epoch  48  Completed! loss =  39061625669.42415\n",
            "Epoch  49  Completed! loss =  39059939452.903656\n",
            "Epoch  50  Completed! loss =  39058417161.25659\n",
            "Epoch  51  Completed! loss =  39057042240.673935\n",
            "Epoch  52  Completed! loss =  39055799892.751335\n",
            "Epoch  53  Completed! loss =  39054676876.30299\n",
            "Epoch  54  Completed! loss =  39053661333.40536\n",
            "Epoch  55  Completed! loss =  39052742636.39337\n",
            "Epoch  56  Completed! loss =  39051911253.03672\n",
            "Epoch  57  Completed! loss =  39051158627.53654\n",
            "Epoch  58  Completed! loss =  39050477075.32407\n",
            "Epoch  59  Completed! loss =  39049859689.9287\n",
            "Epoch  60  Completed! loss =  39049300260.42114\n",
            "Epoch  61  Completed! loss =  39048793198.14035\n",
            "Epoch  62  Completed! loss =  39048333471.58451\n",
            "Epoch  63  Completed! loss =  39047916548.4928\n",
            "Epoch  64  Completed! loss =  39047538344.27016\n",
            "Epoch  65  Completed! loss =  39047195176.015114\n",
            "Epoch  66  Completed! loss =  39046883721.50382\n",
            "Epoch  67  Completed! loss =  39046600982.563065\n",
            "Epoch  68  Completed! loss =  39046344252.33519\n",
            "Epoch  69  Completed! loss =  39046111085.9977\n",
            "Epoch  70  Completed! loss =  39045899274.55284\n",
            "Epoch  71  Completed! loss =  39045706821.348045\n",
            "Epoch  72  Completed! loss =  39045531921.02815\n",
            "Epoch  73  Completed! loss =  39045372940.6548\n",
            "Epoch  74  Completed! loss =  39045228402.75925\n",
            "Epoch  75  Completed! loss =  39045096970.121254\n",
            "Epoch  76  Completed! loss =  39044977432.09042\n",
            "Epoch  77  Completed! loss =  39044868692.28675\n",
            "Epoch  78  Completed! loss =  39044769757.535576\n",
            "Epoch  79  Completed! loss =  39044679727.90795\n",
            "Epoch  80  Completed! loss =  39044597787.75163\n",
            "Epoch  81  Completed! loss =  39044523197.610435\n",
            "Epoch  82  Completed! loss =  39044455286.940765\n",
            "Epoch  83  Completed! loss =  39044393447.54377\n",
            "Epoch  84  Completed! loss =  39044337127.64056\n",
            "Epoch  85  Completed! loss =  39044285826.52519\n",
            "Epoch  86  Completed! loss =  39044239089.73754\n",
            "Epoch  87  Completed! loss =  39044196504.70367\n",
            "Epoch  88  Completed! loss =  39044157696.79721\n",
            "Epoch  89  Completed! loss =  39044122325.77992\n",
            "Epoch  90  Completed! loss =  39044090082.583694\n",
            "Epoch  91  Completed! loss =  39044060686.400536\n",
            "Epoch  92  Completed! loss =  39044033882.05028\n",
            "Epoch  93  Completed! loss =  39044009437.59858\n",
            "Epoch  94  Completed! loss =  39043987142.201065\n",
            "Epoch  95  Completed! loss =  39043966804.15153\n",
            "Epoch  96  Completed! loss =  39043948249.114365\n",
            "Epoch  97  Completed! loss =  39043931318.52343\n",
            "Epoch  98  Completed! loss =  39043915868.13144\n",
            "Epoch  99  Completed! loss =  39043901766.69525\n",
            "Epoch  100  Completed! loss =  39043888894.78417\n",
            "Training completed!!\n"
          ]
        }
      ]
    },
    {
      "cell_type": "markdown",
      "source": [
        "### **Evaluation and Visualization**\n",
        "Lets plot how loss varies with epochs\n"
      ],
      "metadata": {
        "id": "TDH-7NHQT50f"
      }
    },
    {
      "cell_type": "code",
      "source": [
        "test_loss = gradient_descent(x_test,y_test,learn_rate,epochs)\n",
        "print(\"Loss on test data = \",test_loss)\n",
        "epo=np.linspace(0,epochs,epochs)\n",
        "\n",
        "plt.plot(epo,test_loss[0])                   # plot loss versus epochs\n",
        "plt.title(\"Training Loss\")\n",
        "plt.xlabel(\"Epochs\")\n",
        "plt.ylabel(\"Loss\")\n",
        "plt.show()\n",
        "\n"
      ],
      "metadata": {
        "id": "d7JRB_nJUEkV",
        "colab": {
          "base_uri": "https://localhost:8080/",
          "height": 1000
        },
        "outputId": "9923050d-2e8f-49a0-e5eb-f91c7074ea5f"
      },
      "execution_count": 14,
      "outputs": [
        {
          "output_type": "stream",
          "name": "stderr",
          "text": [
            "<ipython-input-9-79c5c346dae6>:16: FutureWarning: Support for multi-dimensional indexing (e.g. `obj[:, None]`) is deprecated and will be removed in a future version.  Convert to a numpy array before indexing instead.\n",
            "  da =  (2/m)* np.sum(np.multiply(x,(yp-y_true)[:,np.newaxis]),axis=0)           # write code to calculate derivative of loss with respect to a\n"
          ]
        },
        {
          "output_type": "stream",
          "name": "stdout",
          "text": [
            "Epoch  1  Completed! loss =  455586429416.9821\n",
            "Epoch  2  Completed! loss =  258645509395.54788\n",
            "Epoch  3  Completed! loss =  180005296638.34177\n",
            "Epoch  4  Completed! loss =  132118562808.21773\n",
            "Epoch  5  Completed! loss =  102025601424.30136\n",
            "Epoch  6  Completed! loss =  82837288651.31511\n",
            "Epoch  7  Completed! loss =  70498973728.09819\n",
            "Epoch  8  Completed! loss =  62518798601.36399\n",
            "Epoch  9  Completed! loss =  57330713186.8151\n",
            "Epoch  10  Completed! loss =  53939209447.46355\n",
            "Epoch  11  Completed! loss =  51707636099.06545\n",
            "Epoch  12  Completed! loss =  50227402980.23258\n",
            "Epoch  13  Completed! loss =  49235639275.34057\n",
            "Epoch  14  Completed! loss =  48562862699.86923\n",
            "Epoch  15  Completed! loss =  48099558913.4061\n",
            "Epoch  16  Completed! loss =  47774780534.83874\n",
            "Epoch  17  Completed! loss =  47542420239.37668\n",
            "Epoch  18  Completed! loss =  47372395398.130486\n",
            "Epoch  19  Completed! loss =  47244980786.12053\n",
            "Epoch  20  Completed! loss =  47147161121.51878\n",
            "Epoch  21  Completed! loss =  47070280653.99413\n",
            "Epoch  22  Completed! loss =  47008526349.13689\n",
            "Epoch  23  Completed! loss =  46957947286.00428\n",
            "Epoch  24  Completed! loss =  46915819320.37845\n",
            "Epoch  25  Completed! loss =  46880232324.90995\n",
            "Epoch  26  Completed! loss =  46849821117.12313\n",
            "Epoch  27  Completed! loss =  46823589307.0441\n",
            "Epoch  28  Completed! loss =  46800793361.114746\n",
            "Epoch  29  Completed! loss =  46780865791.45001\n",
            "Epoch  30  Completed! loss =  46763363849.521454\n",
            "Epoch  31  Completed! loss =  46747934912.68623\n",
            "Epoch  32  Completed! loss =  46734292851.35439\n",
            "Epoch  33  Completed! loss =  46722201664.30265\n",
            "Epoch  34  Completed! loss =  46711463961.66716\n",
            "Epoch  35  Completed! loss =  46701912711.34436\n",
            "Epoch  36  Completed! loss =  46693405206.83514\n",
            "Epoch  37  Completed! loss =  46685818567.16554\n",
            "Epoch  38  Completed! loss =  46679046309.48394\n",
            "Epoch  39  Completed! loss =  46672995685.494835\n",
            "Epoch  40  Completed! loss =  46667585571.9252\n",
            "Epoch  41  Completed! loss =  46662744770.73694\n",
            "Epoch  42  Completed! loss =  46658410618.445915\n",
            "Epoch  43  Completed! loss =  46654527833.22864\n",
            "Epoch  44  Completed! loss =  46651047548.391975\n",
            "Epoch  45  Completed! loss =  46647926494.436844\n",
            "Epoch  46  Completed! loss =  46645126301.44764\n",
            "Epoch  47  Completed! loss =  46642612900.24681\n",
            "Epoch  48  Completed! loss =  46640356005.57114\n",
            "Epoch  49  Completed! loss =  46638328668.04345\n",
            "Epoch  50  Completed! loss =  46636506884.33054\n",
            "Epoch  51  Completed! loss =  46634869256.859566\n",
            "Epoch  52  Completed! loss =  46633396695.99242\n",
            "Epoch  53  Completed! loss =  46632072158.75392\n",
            "Epoch  54  Completed! loss =  46630880419.161705\n",
            "Epoch  55  Completed! loss =  46629807865.973076\n",
            "Epoch  56  Completed! loss =  46628842324.29051\n",
            "Epoch  57  Completed! loss =  46627972897.98413\n",
            "Epoch  58  Completed! loss =  46627189830.31915\n",
            "Epoch  59  Completed! loss =  46626484380.53696\n",
            "Epoch  60  Completed! loss =  46625848714.44249\n",
            "Epoch  61  Completed! loss =  46625275807.30871\n",
            "Epoch  62  Completed! loss =  46624759357.62944\n",
            "Epoch  63  Completed! loss =  46624293710.439835\n",
            "Epoch  64  Completed! loss =  46623873789.086426\n",
            "Epoch  65  Completed! loss =  46623495034.46769\n",
            "Epoch  66  Completed! loss =  46623153350.88744\n",
            "Epoch  67  Completed! loss =  46622845057.76749\n",
            "Epoch  68  Completed! loss =  46622566846.55731\n",
            "Epoch  69  Completed! loss =  46622315742.257545\n",
            "Epoch  70  Completed! loss =  46622089069.042854\n",
            "Epoch  71  Completed! loss =  46621884419.53042\n",
            "Epoch  72  Completed! loss =  46621699627.29293\n",
            "Epoch  73  Completed! loss =  46621532742.26109\n",
            "Epoch  74  Completed! loss =  46621382008.7014\n",
            "Epoch  75  Completed! loss =  46621245845.490746\n",
            "Epoch  76  Completed! loss =  46621122828.44049\n",
            "Epoch  77  Completed! loss =  46621011674.450745\n",
            "Epoch  78  Completed! loss =  46620911227.299644\n",
            "Epoch  79  Completed! loss =  46620820444.894165\n",
            "Epoch  80  Completed! loss =  46620738387.82828\n",
            "Epoch  81  Completed! loss =  46620664209.11062\n",
            "Epoch  82  Completed! loss =  46620597144.93927\n",
            "Epoch  83  Completed! loss =  46620536506.41444\n",
            "Epoch  84  Completed! loss =  46620481672.09118\n",
            "Epoch  85  Completed! loss =  46620432081.285446\n",
            "Epoch  86  Completed! loss =  46620387228.0553\n",
            "Epoch  87  Completed! loss =  46620346655.78803\n",
            "Epoch  88  Completed! loss =  46620309952.33076\n",
            "Epoch  89  Completed! loss =  46620276745.60895\n",
            "Epoch  90  Completed! loss =  46620246699.68318\n",
            "Epoch  91  Completed! loss =  46620219511.199295\n",
            "Epoch  92  Completed! loss =  46620194906.19211\n",
            "Epoch  93  Completed! loss =  46620172637.206924\n",
            "Epoch  94  Completed! loss =  46620152480.706665\n",
            "Epoch  95  Completed! loss =  46620134234.735794\n",
            "Epoch  96  Completed! loss =  46620117716.81529\n",
            "Epoch  97  Completed! loss =  46620102762.0454\n",
            "Epoch  98  Completed! loss =  46620089221.39539\n",
            "Epoch  99  Completed! loss =  46620076960.16169\n",
            "Epoch  100  Completed! loss =  46620065856.57735\n",
            "Training completed!!\n",
            "Loss on test data =  ([455586429416.9821, 258645509395.54788, 180005296638.34177, 132118562808.21773, 102025601424.30136, 82837288651.31511, 70498973728.09819, 62518798601.36399, 57330713186.8151, 53939209447.46355, 51707636099.06545, 50227402980.23258, 49235639275.34057, 48562862699.86923, 48099558913.4061, 47774780534.83874, 47542420239.37668, 47372395398.130486, 47244980786.12053, 47147161121.51878, 47070280653.99413, 47008526349.13689, 46957947286.00428, 46915819320.37845, 46880232324.90995, 46849821117.12313, 46823589307.0441, 46800793361.114746, 46780865791.45001, 46763363849.521454, 46747934912.68623, 46734292851.35439, 46722201664.30265, 46711463961.66716, 46701912711.34436, 46693405206.83514, 46685818567.16554, 46679046309.48394, 46672995685.494835, 46667585571.9252, 46662744770.73694, 46658410618.445915, 46654527833.22864, 46651047548.391975, 46647926494.436844, 46645126301.44764, 46642612900.24681, 46640356005.57114, 46638328668.04345, 46636506884.33054, 46634869256.859566, 46633396695.99242, 46632072158.75392, 46630880419.161705, 46629807865.973076, 46628842324.29051, 46627972897.98413, 46627189830.31915, 46626484380.53696, 46625848714.44249, 46625275807.30871, 46624759357.62944, 46624293710.439835, 46623873789.086426, 46623495034.46769, 46623153350.88744, 46622845057.76749, 46622566846.55731, 46622315742.257545, 46622089069.042854, 46621884419.53042, 46621699627.29293, 46621532742.26109, 46621382008.7014, 46621245845.490746, 46621122828.44049, 46621011674.450745, 46620911227.299644, 46620820444.894165, 46620738387.82828, 46620664209.11062, 46620597144.93927, 46620536506.41444, 46620481672.09118, 46620432081.285446, 46620387228.0553, 46620346655.78803, 46620309952.33076, 46620276745.60895, 46620246699.68318, 46620219511.199295, 46620194906.19211, 46620172637.206924, 46620152480.706665, 46620134234.735794, 46620117716.81529, 46620102762.0454, 46620089221.39539, 46620076960.16169, 46620065856.57735], array([ 14503.07654762, -41934.90836306,  24265.12332164,  90717.50559585,\n",
            "         8182.9770977 ,   4960.68326833,  56686.61183247,  34522.01905534,\n",
            "        24933.55346275, 120831.19553709,  83028.10364524,  32907.06048182,\n",
            "       -71197.70351799,   8697.36871282, -39538.26309515,  85418.13276036,\n",
            "       -42356.16643773,  13671.96236907, -11843.17554497]), 545429.704612265)\n"
          ]
        },
        {
          "output_type": "display_data",
          "data": {
            "text/plain": [
              "<Figure size 640x480 with 1 Axes>"
            ],
            "image/png": "[encoded data removed]"
          },
          "metadata": {}
        }
      ]
    },
    {
      "cell_type": "markdown",
      "source": [
        "## **Deep Learning**\n",
        "In this section We will build a simple multilayer perceptron network(**MLP**) in TensorFlow"
      ],
      "metadata": {
        "id": "iQ5wPjPb57pb"
      }
    },
    {
      "cell_type": "code",
      "execution_count": 15,
      "metadata": {
        "id": "EGoZEKIbdXZD"
      },
      "outputs": [],
      "source": [
        "# Lets import the required libraries\n",
        "import numpy as np\n",
        "from tensorflow import keras\n",
        "from tensorflow.keras import layers\n",
        "import matplotlib.pyplot as plt"
      ]
    },
    {
      "cell_type": "markdown",
      "metadata": {
        "id": "ThuZ51gEdXZF"
      },
      "source": [
        "### **Load Dataset**\n",
        "We will be using MNIST dataset of handwritten digits\n",
        "\n",
        "Just run the cell below to load dataset"
      ]
    },
    {
      "cell_type": "code",
      "execution_count": 16,
      "metadata": {
        "id": "Xj3J8Dp-dXZG",
        "colab": {
          "base_uri": "https://localhost:8080/"
        },
        "outputId": "4241da80-60b8-4219-c58b-61d96a8524ba"
      },
      "outputs": [
        {
          "output_type": "stream",
          "name": "stdout",
          "text": [
            "Downloading data from https://storage.googleapis.com/tensorflow/tf-keras-datasets/mnist.npz\n",
            "11490434/11490434 [==============================] - 1s 0us/step\n",
            "No. of training examples =  60000\n",
            "Size of each image in dataset =  (28, 28)\n",
            "No. of test examples =  10000\n"
          ]
        }
      ],
      "source": [
        "mnist = keras.datasets.mnist\n",
        "(x_train, y_train), (x_test, y_test) = mnist.load_data()\n",
        "print(\"No. of training examples = \",x_train.shape[0])\n",
        "print(\"Size of each image in dataset = \",x_train.shape[1:])\n",
        "print(\"No. of test examples = \",x_test.shape[0])"
      ]
    },
    {
      "cell_type": "code",
      "execution_count": 17,
      "metadata": {
        "id": "XX9xW4ardXZG",
        "colab": {
          "base_uri": "https://localhost:8080/",
          "height": 140
        },
        "outputId": "21183d72-c32e-47ea-d0f1-3446edbc64f4"
      },
      "outputs": [
        {
          "output_type": "stream",
          "name": "stdout",
          "text": [
            "label: 3       5       9       9       1       "
          ]
        },
        {
          "output_type": "display_data",
          "data": {
            "text/plain": [
              "<Figure size 640x480 with 5 Axes>"
            ],
            "image/png": "[encoded data removed]"
          },
          "metadata": {}
        }
      ],
      "source": [
        "# Run this cell to visualize some of the images from dataset\n",
        "\n",
        "n = 5    # = no. of images to visualize\n",
        "\n",
        "index = np.random.choice(x_train.shape[0],5)  # choose random index\n",
        "print(\"label: \",end=\"\")\n",
        "\n",
        "for i,ind in enumerate(index):\n",
        "    plt.subplot(1,n,i+1)\n",
        "    plt.imshow(x_train[ind],cmap=\"gray\")\n",
        "    plt.axis(\"off\")\n",
        "    print(y_train[ind],end=\"       \")\n",
        "\n",
        "plt.show()"
      ]
    },
    {
      "cell_type": "markdown",
      "metadata": {
        "id": "FQcA9i9YdXZH"
      },
      "source": [
        "#### Preprocess dataset\n",
        "Since we are building a MLP model the input to the model should be a vector rather than a 28 by 28 matrix.\n",
        "\n",
        "So your **First Task** is to flatten the images\n",
        "\n",
        "(Hint: use *reshape()* method of arrays...)\n",
        "\n",
        "Next, create validation dataset out of training dataset.\n",
        "\n",
        "You can use 50K images for training and 10K for validation"
      ]
    },
    {
      "cell_type": "code",
      "execution_count": 18,
      "metadata": {
        "id": "RXnkfE6gdXZI",
        "colab": {
          "base_uri": "https://localhost:8080/"
        },
        "outputId": "978cd244-4bed-4e71-82ff-01aae45c3d82"
      },
      "outputs": [
        {
          "output_type": "stream",
          "name": "stdout",
          "text": [
            "(50000, 28, 28) (50000,)\n"
          ]
        }
      ],
      "source": [
        "# Flatten the images into 1-d vectors\n",
        "x_train = x_train/256\n",
        "x_test = x_test/256\n",
        "\n",
        "x_train_flatten = x_train.reshape(60000,784)  \n",
        "x_test                                     # flatten the images of training set\n",
        "x_test_flatten = x_test.reshape(10000,784)                                        # flatten th eimages of test set\n",
        "\n",
        "\n",
        "# Divide the training data into training and validation data....\n",
        "\n",
        "n_validation = 10000 \n",
        "x_train, x_validation, y_train, y_validation = train_test_split(x_train,y_train,test_size=1/6,random_state=42,shuffle=True)\n",
        "x_validation = x_validation.reshape(10000,784)\n",
        "x_train_flatten = x_train.reshape(50000,784)                                      # choose number of images to be used for validation\n",
        "print(x_train.shape, y_train.shape)\n"
      ]
    },
    {
      "cell_type": "markdown",
      "metadata": {
        "id": "fMGl2aq3dXZJ"
      },
      "source": [
        "### **Build a model**\n",
        "You can choose whatever architechure you want, but ensure that it is **not too deep** as that will take too much time to train and **not too shallow** as that will give very low accuracy."
      ]
    },
    {
      "cell_type": "code",
      "execution_count": 19,
      "metadata": {
        "id": "A7yr3nwTdXZK",
        "colab": {
          "base_uri": "https://localhost:8080/"
        },
        "outputId": "48a0c6cf-42e8-4e56-90ba-3572d304edf3"
      },
      "outputs": [
        {
          "output_type": "execute_result",
          "data": {
            "text/plain": [
              "<bound method Model.summary of <keras.engine.sequential.Sequential object at 0x7f82ea2ab520>>"
            ]
          },
          "metadata": {},
          "execution_count": 19
        }
      ],
      "source": [
        "model = keras.models.Sequential([\n",
        "    keras.layers.Dense(10, input_shape=(784,), activation='sigmoid')]\n",
        "    )\n",
        "\n",
        "# Make a graphical representation of the model...\n",
        "keras.utils.plot_model(model,show_shapes=True)\n",
        "model.summary"
      ]
    },
    {
      "cell_type": "markdown",
      "metadata": {
        "id": "7oDNvKB6dXZL"
      },
      "source": [
        "#### Compile and Train\n",
        "Choose an optimizer- method that minimizes loss function\n",
        "\n",
        "**adam** optimizer is one of the popular choices. You should read about these online"
      ]
    },
    {
      "cell_type": "code",
      "execution_count": 20,
      "metadata": {
        "id": "7DM9i_F5dXZL",
        "colab": {
          "base_uri": "https://localhost:8080/"
        },
        "outputId": "aa885ea0-b2b7-477e-8bdd-dd2d7134faac"
      },
      "outputs": [
        {
          "output_type": "stream",
          "name": "stdout",
          "text": [
            "Epoch 1/10\n",
            "1563/1563 [==============================] - 6s 3ms/step - loss: 0.5015 - accuracy: 0.8698 - val_loss: 0.3275 - val_accuracy: 0.9092\n",
            "Epoch 2/10\n",
            "1563/1563 [==============================] - 4s 2ms/step - loss: 0.3135 - accuracy: 0.9129 - val_loss: 0.2931 - val_accuracy: 0.9162\n",
            "Epoch 3/10\n",
            "1563/1563 [==============================] - 3s 2ms/step - loss: 0.2905 - accuracy: 0.9197 - val_loss: 0.2851 - val_accuracy: 0.9189\n",
            "Epoch 4/10\n",
            "1563/1563 [==============================] - 5s 3ms/step - loss: 0.2789 - accuracy: 0.9226 - val_loss: 0.2748 - val_accuracy: 0.9207\n",
            "Epoch 5/10\n",
            "1563/1563 [==============================] - 4s 2ms/step - loss: 0.2709 - accuracy: 0.9247 - val_loss: 0.2723 - val_accuracy: 0.9213\n",
            "Epoch 6/10\n",
            "1563/1563 [==============================] - 4s 2ms/step - loss: 0.2663 - accuracy: 0.9269 - val_loss: 0.2707 - val_accuracy: 0.9231\n",
            "Epoch 7/10\n",
            "1563/1563 [==============================] - 5s 3ms/step - loss: 0.2620 - accuracy: 0.9274 - val_loss: 0.2662 - val_accuracy: 0.9249\n",
            "Epoch 8/10\n",
            "1563/1563 [==============================] - 5s 3ms/step - loss: 0.2585 - accuracy: 0.9285 - val_loss: 0.2654 - val_accuracy: 0.9248\n",
            "Epoch 9/10\n",
            "1563/1563 [==============================] - 4s 3ms/step - loss: 0.2553 - accuracy: 0.9299 - val_loss: 0.2669 - val_accuracy: 0.9248\n",
            "Epoch 10/10\n",
            "1563/1563 [==============================] - 4s 3ms/step - loss: 0.2535 - accuracy: 0.9296 - val_loss: 0.2656 - val_accuracy: 0.9256\n",
            "dict_keys(['loss', 'accuracy', 'val_loss', 'val_accuracy'])\n"
          ]
        }
      ],
      "source": [
        "from keras import losses, optimizers, metrics\n",
        "model.compile(optimizer = \"adam\", loss = 'sparse_categorical_crossentropy',metrics=[\"accuracy\"])\n",
        "\n",
        "n_epochs = 10              # set number of epochs\n",
        "batch_size = 512            # you can tweak with these parametrs\n",
        "history = model.fit(x_train_flatten,y_train,epochs=10,validation_data=(x_validation,y_validation))\n",
        "print(history.history.keys())"
      ]
    },
    {
      "cell_type": "markdown",
      "metadata": {
        "id": "7QTWTtoVdXZM"
      },
      "source": [
        "### **Evaluate**\n",
        "Evaluate your model on test data.\n",
        "\n",
        "And Show some results"
      ]
    },
    {
      "cell_type": "code",
      "execution_count": 21,
      "metadata": {
        "id": "bhuBGWg-dXZM",
        "colab": {
          "base_uri": "https://localhost:8080/",
          "height": 981
        },
        "outputId": "73fd89af-591d-4117-b87f-c2cd84eb41c0"
      },
      "outputs": [
        {
          "output_type": "stream",
          "name": "stdout",
          "text": [
            "1000/1000 [==============================] - 2s 2ms/step - loss: 0.2642 - accuracy: 0.9260\n",
            "Loss =  0.2642354667186737\n",
            "Accuracy =  92.59999990463257 %\n"
          ]
        },
        {
          "output_type": "display_data",
          "data": {
            "text/plain": [
              "<Figure size 640x480 with 1 Axes>"
            ],
            "image/png": "[encoded data removed]"
          },
          "metadata": {}
        },
        {
          "output_type": "display_data",
          "data": {
            "text/plain": [
              "<Figure size 640x480 with 1 Axes>"
            ],
            "image/png": "[encoded data removed]"
          },
          "metadata": {}
        }
      ],
      "source": [
        "results = model.evaluate(x_test_flatten,y_test, 10)\n",
        "print(\"Loss = \",results[0])\n",
        "print(\"Accuracy = \",results[1]*100,\"%\")\n",
        "\n",
        "# Plot Accuracy...\n",
        "plt.plot([i for i in range(n_epochs)],history.history['accuracy'], label=\"Training accuracy\")\n",
        "plt.plot([i for i in range(n_epochs)],history.history['val_accuracy'],label=\"validation accuracy\" )\n",
        "plt.title(\"Model accuracy\")\n",
        "plt.xlabel(\"Epochs\")\n",
        "plt.ylabel(\"Accuracy\")\n",
        "plt.legend()\n",
        "plt.show()\n",
        "\n",
        "# Similarly write code to plot loss...\n",
        "plt.plot([i for i in range(n_epochs)],history.history['loss'], label=\"loss\")\n",
        "plt.title(\"Model loss\")\n",
        "plt.xlabel(\"epochs\")\n",
        "plt.ylabel(\"loss\")\n",
        "plt.show()\n",
        "\n"
      ]
    },
    {
      "cell_type": "markdown",
      "metadata": {
        "id": "4Hjr0CBhdXZN"
      },
      "source": [
        "Lets show our results on images from testing dataset"
      ]
    },
    {
      "cell_type": "code",
      "execution_count": 28,
      "metadata": {
        "id": "sEs1cVAHdXZN",
        "colab": {
          "base_uri": "https://localhost:8080/",
          "height": 265
        },
        "outputId": "1b1e255d-fb39-4c0b-dd78-6108360238c1"
      },
      "outputs": [
        {
          "output_type": "stream",
          "name": "stdout",
          "text": [
            "label: 7       9       1       2       6       [7861 4213 5666 5934   22]\n"
          ]
        },
        {
          "output_type": "display_data",
          "data": {
            "text/plain": [
              "<Figure size 640x480 with 5 Axes>"
            ],
            "image/png": "[encoded data removed]"
          },
          "metadata": {}
        },
        {
          "output_type": "stream",
          "name": "stdout",
          "text": [
            "Predicted value: \n",
            "313/313 [==============================] - 1s 3ms/step\n",
            "313/313 [==============================] - 0s 1ms/step\n",
            "313/313 [==============================] - 0s 1ms/step\n",
            "313/313 [==============================] - 0s 1ms/step\n",
            "313/313 [==============================] - 0s 1ms/step\n",
            "6 "
          ]
        }
      ],
      "source": [
        "n = 5   # = no. of images to see predictions on\n",
        "index = np.random.choice(x_test.shape[0],5)  # choose random index from test data\n",
        "print(\"label: \",end=\"\")\n",
        "\n",
        "for i,ind in enumerate(index):\n",
        "    plt.subplot(1,n,i+1)\n",
        "    plt.imshow(x_test[ind],cmap=\"gray\")             # fill code to show images from test set\n",
        "    plt.axis(\"off\")\n",
        "    print(y_test[ind],end=\"       \")\n",
        "print(index)\n",
        "    \n",
        "\n",
        "plt.show()\n",
        "print(\"Predicted value: \")\n",
        "\n",
        "# Now lets print the predictions\n",
        "\n",
        "for i,ind in enumerate(index):\n",
        "    # write code to predict and print digit in image\n",
        "    # Hint: the output of the model is a 10-d vector which gives probabilties\n",
        "    # The digit in the image would be the class for which probability is highest..\n",
        "    di = model.predict(x_test_flatten)\n",
        "    digit = np.argmax(di[ind])\n",
        "\n",
        "    print(digit,end=\" \")\n",
        "    "
      ]
    },
    {
      "cell_type": "markdown",
      "metadata": {
        "id": "ne8-aBvHdXZO"
      },
      "source": [
        "That's it you have completed the assignment !!\n",
        "\n",
        "We hope that you learned something from this exercise\n",
        "\n",
        "### Credits:\n",
        "\n",
        "**Leaders:**\n",
        "\n",
        "Mohit Kulkarni\n",
        "\n",
        "Shivanshu Tyagi\n",
        "\n",
        "**Scretaries:**\n",
        "\n",
        "Sahil Bansal\n",
        "\n",
        "Shashwat Gupta\n",
        "\n",
        "Rashmi Sharma"
      ]
    }
  ],
  "metadata": {
    "interpreter": {
      "hash": "31f2aee4e71d21fbe5cf8b01ff0e069b9275f58929596ceb00d14d90e3e16cd6"
    },
    "kernelspec": {
      "display_name": "Python 3.8.10 64-bit",
      "language": "python",
      "name": "python3"
    },
    "language_info": {
      "codemirror_mode": {
        "name": "ipython",
        "version": 3
      },
      "file_extension": ".py",
      "mimetype": "text/x-python",
      "name": "python",
      "nbconvert_exporter": "python",
      "pygments_lexer": "ipython3",
      "version": "3.8.10"
    },
    "orig_nbformat": 4,
    "colab": {
      "provenance": []
    }
  },
  "nbformat": 4,
  "nbformat_minor": 0
}